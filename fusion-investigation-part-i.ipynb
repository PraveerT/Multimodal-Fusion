{
 "cells": [
  {
   "cell_type": "code",
   "execution_count": 1,
   "id": "aebad405",
   "metadata": {
    "_cell_guid": "b1076dfc-b9ad-4769-8c92-a6c4dae69d19",
    "_uuid": "8f2839f25d086af736a60e9eeb907d3b93b6e0e5",
    "execution": {
     "iopub.execute_input": "2023-01-29T10:28:17.720955Z",
     "iopub.status.busy": "2023-01-29T10:28:17.720126Z",
     "iopub.status.idle": "2023-01-29T10:28:27.329017Z",
     "shell.execute_reply": "2023-01-29T10:28:27.327886Z"
    },
    "papermill": {
     "duration": 9.617122,
     "end_time": "2023-01-29T10:28:27.331988",
     "exception": false,
     "start_time": "2023-01-29T10:28:17.714866",
     "status": "completed"
    },
    "tags": []
   },
   "outputs": [
    {
     "name": "stdout",
     "output_type": "stream",
     "text": [
      "Cloning into 'Multimodal-Fusion'...\r\n",
      "remote: Enumerating objects: 112, done.\u001b[K\r\n",
      "remote: Counting objects: 100% (112/112), done.\u001b[K\r\n",
      "remote: Compressing objects: 100% (111/111), done.\u001b[K\r\n",
      "remote: Total 112 (delta 63), reused 0 (delta 0), pack-reused 0\u001b[K\r\n",
      "Receiving objects: 100% (112/112), 125.60 KiB | 1.12 MiB/s, done.\r\n",
      "Resolving deltas: 100% (63/63), done.\r\n"
     ]
    },
    {
     "name": "stderr",
     "output_type": "stream",
     "text": [
      "2023-01-29 10:28:24.750133: I tensorflow/stream_executor/cuda/cuda_gpu_executor.cc:937] successful NUMA node read from SysFS had negative value (-1), but there must be at least one NUMA node, so returning NUMA node zero\n",
      "2023-01-29 10:28:24.839547: I tensorflow/stream_executor/cuda/cuda_gpu_executor.cc:937] successful NUMA node read from SysFS had negative value (-1), but there must be at least one NUMA node, so returning NUMA node zero\n",
      "2023-01-29 10:28:24.840485: I tensorflow/stream_executor/cuda/cuda_gpu_executor.cc:937] successful NUMA node read from SysFS had negative value (-1), but there must be at least one NUMA node, so returning NUMA node zero\n",
      "2023-01-29 10:28:24.842751: I tensorflow/core/platform/cpu_feature_guard.cc:142] This TensorFlow binary is optimized with oneAPI Deep Neural Network Library (oneDNN) to use the following CPU instructions in performance-critical operations:  AVX2 AVX512F FMA\n",
      "To enable them in other operations, rebuild TensorFlow with the appropriate compiler flags.\n",
      "2023-01-29 10:28:24.843052: I tensorflow/stream_executor/cuda/cuda_gpu_executor.cc:937] successful NUMA node read from SysFS had negative value (-1), but there must be at least one NUMA node, so returning NUMA node zero\n",
      "2023-01-29 10:28:24.843778: I tensorflow/stream_executor/cuda/cuda_gpu_executor.cc:937] successful NUMA node read from SysFS had negative value (-1), but there must be at least one NUMA node, so returning NUMA node zero\n",
      "2023-01-29 10:28:24.844441: I tensorflow/stream_executor/cuda/cuda_gpu_executor.cc:937] successful NUMA node read from SysFS had negative value (-1), but there must be at least one NUMA node, so returning NUMA node zero\n",
      "2023-01-29 10:28:26.910018: I tensorflow/stream_executor/cuda/cuda_gpu_executor.cc:937] successful NUMA node read from SysFS had negative value (-1), but there must be at least one NUMA node, so returning NUMA node zero\n",
      "2023-01-29 10:28:26.910893: I tensorflow/stream_executor/cuda/cuda_gpu_executor.cc:937] successful NUMA node read from SysFS had negative value (-1), but there must be at least one NUMA node, so returning NUMA node zero\n",
      "2023-01-29 10:28:26.911613: I tensorflow/stream_executor/cuda/cuda_gpu_executor.cc:937] successful NUMA node read from SysFS had negative value (-1), but there must be at least one NUMA node, so returning NUMA node zero\n",
      "2023-01-29 10:28:26.912211: I tensorflow/core/common_runtime/gpu/gpu_device.cc:1510] Created device /job:localhost/replica:0/task:0/device:GPU:0 with 15401 MB memory:  -> device: 0, name: Tesla P100-PCIE-16GB, pci bus id: 0000:00:04.0, compute capability: 6.0\n"
     ]
    }
   ],
   "source": [
    "from IPython.display import clear_output #clear_output(wait=True)\n",
    "!git clone https://github.com/PraveerT/Multimodal-Fusion.git\n",
    "import sys\n",
    "sys.path.insert(1, \"/kaggle/working/Multimodal-Fusion\")\n",
    "import CustomArchUniModal,CustomFusionModel,Module_Metrics\n",
    "clear_output(wait=True)"
   ]
  },
  {
   "cell_type": "code",
   "execution_count": 2,
   "id": "afa7df2f",
   "metadata": {
    "execution": {
     "iopub.execute_input": "2023-01-29T10:28:27.343123Z",
     "iopub.status.busy": "2023-01-29T10:28:27.342087Z",
     "iopub.status.idle": "2023-01-29T10:28:27.352558Z",
     "shell.execute_reply": "2023-01-29T10:28:27.351547Z"
    },
    "papermill": {
     "duration": 0.019538,
     "end_time": "2023-01-29T10:28:27.356162",
     "exception": false,
     "start_time": "2023-01-29T10:28:27.336624",
     "status": "completed"
    },
    "tags": []
   },
   "outputs": [],
   "source": [
    "import numpy as np\n",
    "import matplotlib\n",
    "# matplotlib.use('Agg')\n",
    "import matplotlib.pyplot as plt\n",
    "import os,shutil\n",
    "from tensorflow import keras\n",
    "# plt.style.use('dark_background')\n",
    "import pickle\n",
    "import tensorflow as tf\n",
    "from numpy.random import seed\n",
    "from IPython.display import FileLink\n",
    "import os\n",
    "import json"
   ]
  },
  {
   "cell_type": "code",
   "execution_count": 3,
   "id": "f3b34932",
   "metadata": {
    "execution": {
     "iopub.execute_input": "2023-01-29T10:28:27.367198Z",
     "iopub.status.busy": "2023-01-29T10:28:27.366841Z",
     "iopub.status.idle": "2023-01-29T10:28:36.285028Z",
     "shell.execute_reply": "2023-01-29T10:28:36.284052Z"
    },
    "papermill": {
     "duration": 8.926412,
     "end_time": "2023-01-29T10:28:36.287523",
     "exception": false,
     "start_time": "2023-01-29T10:28:27.361111",
     "status": "completed"
    },
    "tags": []
   },
   "outputs": [],
   "source": [
    "import tarfile\n",
    "modalities_imports={\"UO\":\"optical\",\"UM\":\"mpipe\",\"UR\":\"radar\"}\n",
    "Modalities={}\n",
    "\n",
    "for modality in modalities_imports:\n",
    "    with tarfile.open(f'/kaggle/input/2023-12-gesture-dataset-part-i-preprocessing/{modalities_imports[modality]}.tgz') as t:\n",
    "        t.extractall('/')\n",
    "        Modalities[modality]=np.load(f'/kaggle/working/{modalities_imports[modality]}.npy')"
   ]
  },
  {
   "cell_type": "code",
   "execution_count": 4,
   "id": "40515256",
   "metadata": {
    "execution": {
     "iopub.execute_input": "2023-01-29T10:28:36.295576Z",
     "iopub.status.busy": "2023-01-29T10:28:36.294862Z",
     "iopub.status.idle": "2023-01-29T10:28:36.310578Z",
     "shell.execute_reply": "2023-01-29T10:28:36.308650Z"
    },
    "papermill": {
     "duration": 0.021962,
     "end_time": "2023-01-29T10:28:36.312723",
     "exception": false,
     "start_time": "2023-01-29T10:28:36.290761",
     "status": "completed"
    },
    "tags": []
   },
   "outputs": [
    {
     "name": "stdout",
     "output_type": "stream",
     "text": [
      "{'ITALIAN_SPEAK.npy': 0, 'LEFT_HAND_WAVE.npy': 1, 'RIGHT_HAND_WAVE.npy': 2, 'GOOD_TIME.npy': 3, 'TWO_HAND _WAVE.npy': 4, 'EVERYTHING_IS_GOOD.npy': 5, 'COMING_TOGETHER.npy': 6, 'SAME_PAGE.npy': 7, 'REMEMBER.npy': 8, 'BIG_PROBLEM.npy': 9, 'SMALL_PROBLEM.npy': 10, 'REALLY_MEAN.npy': 11}\n"
     ]
    }
   ],
   "source": [
    "from tensorflow.keras.utils import to_categorical\n",
    "actions=[]\n",
    "for x in os.listdir('../input/12-hand-gestures/MP_OPTICAL_SMALL'):\n",
    "    if x.endswith(\".npy\"):\n",
    "        # Prints only text file present in My Folder\n",
    "        actions.append(x)\n",
    "actions =np.array(actions)\n",
    "    \n",
    "\n",
    "label_map = {label:num for num, label in enumerate(actions)}\n",
    "\n",
    "\n",
    "# 19 videos worth of data\n",
    "no_sequences = 20\n",
    "\n",
    "# Videos are going to be 30 frames in length\n",
    "sequence_length = 30\n",
    "label_map\n",
    "print (label_map)\n",
    "sequences, labels = [], []\n",
    "for action in actions:\n",
    "    for sequence in range(no_sequences):\n",
    "        window = []\n",
    "        labels.append(label_map[action])\n",
    "\n",
    "\n",
    "y = to_categorical(labels).astype(int)"
   ]
  },
  {
   "cell_type": "code",
   "execution_count": 5,
   "id": "4778db53",
   "metadata": {
    "execution": {
     "iopub.execute_input": "2023-01-29T10:28:36.320496Z",
     "iopub.status.busy": "2023-01-29T10:28:36.319731Z",
     "iopub.status.idle": "2023-01-29T10:28:37.501805Z",
     "shell.execute_reply": "2023-01-29T10:28:37.500801Z"
    },
    "papermill": {
     "duration": 1.188608,
     "end_time": "2023-01-29T10:28:37.504345",
     "exception": false,
     "start_time": "2023-01-29T10:28:36.315737",
     "status": "completed"
    },
    "tags": []
   },
   "outputs": [],
   "source": [
    "from sklearn.model_selection import train_test_split\n",
    "\n",
    "Xo_train,Xo_test,Xm_train,Xm_test,Xr_train,Xr_test,y_train,y_test = train_test_split(Modalities[\"UO\"],Modalities[\"UM\"],Modalities[\"UR\"],y,test_size=0.3)\n"
   ]
  },
  {
   "cell_type": "code",
   "execution_count": 6,
   "id": "0b5736c7",
   "metadata": {
    "execution": {
     "iopub.execute_input": "2023-01-29T10:28:37.518931Z",
     "iopub.status.busy": "2023-01-29T10:28:37.518625Z",
     "iopub.status.idle": "2023-01-29T10:28:39.977599Z",
     "shell.execute_reply": "2023-01-29T10:28:39.976574Z"
    },
    "papermill": {
     "duration": 2.470959,
     "end_time": "2023-01-29T10:28:39.980012",
     "exception": false,
     "start_time": "2023-01-29T10:28:37.509053",
     "status": "completed"
    },
    "tags": []
   },
   "outputs": [],
   "source": [
    "Models={}\n",
    "MergeModels={}\n",
    "\n",
    "for x in range (1,4):\n",
    "    Models[\"A_\"+str(x)]=CustomFusionModel.A((30,48, 64,3),0.3)\n",
    "    Models[\"B_\"+str(x)]=CustomFusionModel.B((30,48, 64,3),0.3)\n",
    "    Models[\"C_\"+str(x)]=CustomFusionModel.C((30,48, 64,3),0.3)\n",
    "    Models[\"B_Attention_\"+str(x)]=CustomFusionModel.B_Attention((30,48, 64,3),0.3)\n",
    "    Models[\"C_Attention_\"+str(x)]=CustomFusionModel.C_Attention((30,48, 64,3),0.3)\n",
    "    \n",
    "EarlyConfig={\"EF-OMR\":['A_1','A_2','A_3']}\n",
    "for Config in EarlyConfig:\n",
    "    MergeModels[Config]=CustomFusionModel.EarlyMerge(Models[EarlyConfig[Config][0]],Models[EarlyConfig[Config][1]],Models[EarlyConfig[Config][2]],Module_Metrics.initial_learning_rate,Module_Metrics.METRICS)\n",
    "    MergeModels[Config+\"-IA\"]=CustomFusionModel.EarlyMergeIntermediateAttention(Models[EarlyConfig[Config][0]],Models[EarlyConfig[Config][1]],Models[EarlyConfig[Config][2]],Module_Metrics.initial_learning_rate,Module_Metrics.METRICS)\n",
    "\n",
    "MergeConfigs={\"IF-OMR\":['B_1','B_2','B_3'],\"LF-OMR\":['C_1','C_2','C_3'],\"IF-OMR-IA\":['B_Attention_1','B_Attention_2','B_Attention_3'],\"LF-OMR-IA\":['C_Attention_1','C_Attention_2','C_Attention_3']}\n",
    "for Config in MergeConfigs:\n",
    "    MergeModels[Config]=CustomFusionModel.Merge(Models[MergeConfigs[Config][0]],Models[MergeConfigs[Config][1]],Models[MergeConfigs[Config][2]],Module_Metrics.initial_learning_rate,Module_Metrics.METRICS)\n",
    "LateConfigs={\"IF-OMR\":['B_1','B_2','B_3'],\"LF-OMR\":['C_1','C_2','C_3']}\n",
    "for Config in LateConfigs:\n",
    "    MergeModels[Config+\"-LA\"]=CustomFusionModel.Merge_Attention(Models[LateConfigs[Config][0]],Models[LateConfigs[Config][1]],Models[LateConfigs[Config][2]],Module_Metrics.initial_learning_rate,Module_Metrics.METRICS)\n"
   ]
  },
  {
   "cell_type": "code",
   "execution_count": 7,
   "id": "a434b372",
   "metadata": {
    "collapsed": true,
    "execution": {
     "iopub.execute_input": "2023-01-29T10:28:39.988862Z",
     "iopub.status.busy": "2023-01-29T10:28:39.987352Z",
     "iopub.status.idle": "2023-01-29T13:42:22.705370Z",
     "shell.execute_reply": "2023-01-29T13:42:22.704310Z"
    },
    "jupyter": {
     "outputs_hidden": true
    },
    "papermill": {
     "duration": 11622.725966,
     "end_time": "2023-01-29T13:42:22.709323",
     "exception": false,
     "start_time": "2023-01-29T10:28:39.983357",
     "status": "completed"
    },
    "tags": []
   },
   "outputs": [
    {
     "name": "stdout",
     "output_type": "stream",
     "text": [
      "EF-OMR\n"
     ]
    },
    {
     "name": "stderr",
     "output_type": "stream",
     "text": [
      "2023-01-29 10:28:41.403937: I tensorflow/compiler/mlir/mlir_graph_optimization_pass.cc:185] None of the MLIR Optimization Passes are enabled (registered 2)\n",
      "2023-01-29 10:28:44.305885: I tensorflow/stream_executor/cuda/cuda_dnn.cc:369] Loaded cuDNN version 8005\n",
      "/opt/conda/lib/python3.7/site-packages/keras/utils/generic_utils.py:497: CustomMaskWarning: Custom mask layers require a config and must override get_config. When loading, the custom mask layer must be passed to the custom_objects argument.\n",
      "  category=CustomMaskWarning)\n"
     ]
    },
    {
     "name": "stdout",
     "output_type": "stream",
     "text": [
      "EF-OMR-IA\n",
      "IF-OMR\n",
      "LF-OMR\n",
      "IF-OMR-IA\n",
      "LF-OMR-IA\n",
      "IF-OMR-LA\n",
      "LF-OMR-LA\n"
     ]
    }
   ],
   "source": [
    "from keras import backend as K\n",
    "\n",
    "X_train=[Xo_train,Xm_train,Xr_train]\n",
    "X_test=[Xo_test,Xm_test,Xr_test]\n",
    "\n",
    "MergeModelHistories={}\n",
    "\n",
    "\n",
    "for Model in MergeModels:\n",
    "    print (Model)\n",
    "    \n",
    "    checkpoint_cb, early_stopping_cb=Module_Metrics.CE(Model,MergeModels[Model])\n",
    "    History=MergeModels[Model].fit(X_train,y_train,validation_data=(X_test,y_test),batch_size=1,epochs=200,callbacks=[checkpoint_cb,early_stopping_cb],verbose=0)\n",
    "    MergeModelHistories[Model]=History.history\n",
    "#     plt.plot(History.history['val_categorical_accuracy'])\n",
    "#     plt.show()\n",
    "    json.dump(MergeModelHistories, open( \"MergeModelHistories.json\", 'w' ))\n",
    "    K.clear_session()\n",
    "    \n",
    "    "
   ]
  },
  {
   "cell_type": "code",
   "execution_count": 8,
   "id": "c1da708c",
   "metadata": {
    "execution": {
     "iopub.execute_input": "2023-01-29T13:42:22.720939Z",
     "iopub.status.busy": "2023-01-29T13:42:22.719486Z",
     "iopub.status.idle": "2023-01-29T13:42:22.759168Z",
     "shell.execute_reply": "2023-01-29T13:42:22.758339Z"
    },
    "papermill": {
     "duration": 0.048047,
     "end_time": "2023-01-29T13:42:22.761732",
     "exception": false,
     "start_time": "2023-01-29T13:42:22.713685",
     "status": "completed"
    },
    "tags": []
   },
   "outputs": [],
   "source": [
    "npy=['optical','mpipe','radar']\n",
    "for x in npy :\n",
    "    os.remove(f\"/kaggle/working/{x}.npy\")"
   ]
  }
 ],
 "metadata": {
  "kernelspec": {
   "display_name": "Python 3",
   "language": "python",
   "name": "python3"
  },
  "language_info": {
   "codemirror_mode": {
    "name": "ipython",
    "version": 3
   },
   "file_extension": ".py",
   "mimetype": "text/x-python",
   "name": "python",
   "nbconvert_exporter": "python",
   "pygments_lexer": "ipython3",
   "version": "3.7.12"
  },
  "papermill": {
   "default_parameters": {},
   "duration": 11656.685079,
   "end_time": "2023-01-29T13:42:26.518569",
   "environment_variables": {},
   "exception": null,
   "input_path": "__notebook__.ipynb",
   "output_path": "__notebook__.ipynb",
   "parameters": {},
   "start_time": "2023-01-29T10:28:09.833490",
   "version": "2.3.4"
  }
 },
 "nbformat": 4,
 "nbformat_minor": 5
}
